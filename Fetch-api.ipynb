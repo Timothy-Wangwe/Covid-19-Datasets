{
 "cells": [
  {
   "cell_type": "code",
   "execution_count": 1,
   "metadata": {},
   "outputs": [],
   "source": [
    "# Import 3rd party libraries\n",
    "import urllib.request\n",
    "import json\n",
    "import pandas as pd\n",
    "from datetime import datetime"
   ]
  },
  {
   "cell_type": "code",
   "execution_count": 2,
   "metadata": {},
   "outputs": [],
   "source": [
    "# Fetch data from api"
   ]
  },
  {
   "cell_type": "code",
   "execution_count": 3,
   "metadata": {},
   "outputs": [],
   "source": [
    "url = 'https://api.covid19api.com/summary'"
   ]
  },
  {
   "cell_type": "code",
   "execution_count": 4,
   "metadata": {},
   "outputs": [
    {
     "data": {
      "text/plain": [
       "<http.client.HTTPResponse at 0x7fa29b853750>"
      ]
     },
     "execution_count": 4,
     "metadata": {},
     "output_type": "execute_result"
    }
   ],
   "source": [
    "JsonObj = urllib.request.urlopen(url)\n",
    "JsonObj"
   ]
  },
  {
   "cell_type": "code",
   "execution_count": 5,
   "metadata": {},
   "outputs": [],
   "source": [
    "Obj = json.load(JsonObj)"
   ]
  },
  {
   "cell_type": "code",
   "execution_count": 6,
   "metadata": {},
   "outputs": [],
   "source": [
    "# Iterate though, filter and save data"
   ]
  },
  {
   "cell_type": "code",
   "execution_count": 7,
   "metadata": {},
   "outputs": [],
   "source": [
    "Countries = []\n",
    "Cases = []\n",
    "nCases = []\n",
    "Deaths = []\n",
    "nDeaths = []\n",
    "Recoveries = []\n",
    "nRecoveries = []"
   ]
  },
  {
   "cell_type": "code",
   "execution_count": 8,
   "metadata": {},
   "outputs": [],
   "source": [
    "for item in Obj['Countries']:\n",
    "    Countries.append(item['Country'])\n",
    "    Cases.append(item['TotalConfirmed'])\n",
    "    nCases.append(item['NewConfirmed'])\n",
    "    Deaths.append(item['TotalDeaths'])\n",
    "    nDeaths.append(item['NewDeaths'])\n",
    "    Recoveries.append(item['TotalRecovered'])\n",
    "    nRecoveries.append(item['NewRecovered'])"
   ]
  },
  {
   "cell_type": "code",
   "execution_count": 9,
   "metadata": {},
   "outputs": [
    {
     "data": {
      "text/html": [
       "<div>\n",
       "<style scoped>\n",
       "    .dataframe tbody tr th:only-of-type {\n",
       "        vertical-align: middle;\n",
       "    }\n",
       "\n",
       "    .dataframe tbody tr th {\n",
       "        vertical-align: top;\n",
       "    }\n",
       "\n",
       "    .dataframe thead th {\n",
       "        text-align: right;\n",
       "    }\n",
       "</style>\n",
       "<table border=\"1\" class=\"dataframe\">\n",
       "  <thead>\n",
       "    <tr style=\"text-align: right;\">\n",
       "      <th></th>\n",
       "      <th>Countries</th>\n",
       "      <th>Total Cases</th>\n",
       "      <th>New Cases</th>\n",
       "      <th>Total Deaths</th>\n",
       "      <th>New Deaths</th>\n",
       "      <th>Total Recoveries</th>\n",
       "      <th>New Recoveries</th>\n",
       "    </tr>\n",
       "  </thead>\n",
       "  <tbody>\n",
       "    <tr>\n",
       "      <th>0</th>\n",
       "      <td></td>\n",
       "      <td>0</td>\n",
       "      <td>0</td>\n",
       "      <td>0</td>\n",
       "      <td>0</td>\n",
       "      <td>0</td>\n",
       "      <td>0</td>\n",
       "    </tr>\n",
       "    <tr>\n",
       "      <th>1</th>\n",
       "      <td>Azerbaijan</td>\n",
       "      <td>0</td>\n",
       "      <td>0</td>\n",
       "      <td>0</td>\n",
       "      <td>0</td>\n",
       "      <td>0</td>\n",
       "      <td>0</td>\n",
       "    </tr>\n",
       "    <tr>\n",
       "      <th>2</th>\n",
       "      <td>Afghanistan</td>\n",
       "      <td>84</td>\n",
       "      <td>10</td>\n",
       "      <td>2</td>\n",
       "      <td>1</td>\n",
       "      <td>2</td>\n",
       "      <td>1</td>\n",
       "    </tr>\n",
       "    <tr>\n",
       "      <th>3</th>\n",
       "      <td>Albania</td>\n",
       "      <td>146</td>\n",
       "      <td>23</td>\n",
       "      <td>5</td>\n",
       "      <td>0</td>\n",
       "      <td>17</td>\n",
       "      <td>7</td>\n",
       "    </tr>\n",
       "    <tr>\n",
       "      <th>4</th>\n",
       "      <td>Algeria</td>\n",
       "      <td>302</td>\n",
       "      <td>38</td>\n",
       "      <td>21</td>\n",
       "      <td>2</td>\n",
       "      <td>65</td>\n",
       "      <td>41</td>\n",
       "    </tr>\n",
       "  </tbody>\n",
       "</table>\n",
       "</div>"
      ],
      "text/plain": [
       "     Countries  Total Cases  New Cases  Total Deaths  New Deaths  \\\n",
       "0                         0          0             0           0   \n",
       "1   Azerbaijan            0          0             0           0   \n",
       "2  Afghanistan           84         10             2           1   \n",
       "3      Albania          146         23             5           0   \n",
       "4      Algeria          302         38            21           2   \n",
       "\n",
       "   Total Recoveries  New Recoveries  \n",
       "0                 0               0  \n",
       "1                 0               0  \n",
       "2                 2               1  \n",
       "3                17               7  \n",
       "4                65              41  "
      ]
     },
     "execution_count": 9,
     "metadata": {},
     "output_type": "execute_result"
    }
   ],
   "source": [
    "# Create a pandas dataframe\n",
    "DataLib = {\n",
    "    \"Countries\" : Countries,\n",
    "    \"Total Cases\" : Cases,\n",
    "    \"New Cases\" : nCases,\n",
    "    \"Total Deaths\" : Deaths,\n",
    "    \"New Deaths\" : nDeaths,\n",
    "    \"Total Recoveries\" : Recoveries,\n",
    "    \"New Recoveries\" : nRecoveries\n",
    "}\n",
    "\n",
    "cols = DataLib.keys()\n",
    "\n",
    "data = pd.DataFrame(DataLib, columns = cols)\n",
    "data.head()"
   ]
  },
  {
   "cell_type": "code",
   "execution_count": 12,
   "metadata": {},
   "outputs": [],
   "source": [
    "# Save to csv file as current date\n",
    "name = datetime.now().strftime(\"%d-%b-%Y\")\n",
    "data.to_csv(f'Data-Sets/{name}.csv')"
   ]
  },
  {
   "cell_type": "code",
   "execution_count": null,
   "metadata": {},
   "outputs": [],
   "source": []
  }
 ],
 "metadata": {
  "kernelspec": {
   "display_name": "Python 3",
   "language": "python",
   "name": "python3"
  },
  "language_info": {
   "codemirror_mode": {
    "name": "ipython",
    "version": 3
   },
   "file_extension": ".py",
   "mimetype": "text/x-python",
   "name": "python",
   "nbconvert_exporter": "python",
   "pygments_lexer": "ipython3",
   "version": "3.7.5"
  }
 },
 "nbformat": 4,
 "nbformat_minor": 4
}
