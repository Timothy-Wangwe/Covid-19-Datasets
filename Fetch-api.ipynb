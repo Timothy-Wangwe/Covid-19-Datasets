{
 "cells": [
  {
   "cell_type": "code",
   "execution_count": null,
   "metadata": {},
   "outputs": [],
   "source": [
    "# Import 3rd party libraries\n",
    "import urllib.request\n",
    "import json\n",
    "import pandas as pd\n",
    "from datetime import datetime"
   ]
  },
  {
   "cell_type": "code",
   "execution_count": null,
   "metadata": {},
   "outputs": [],
   "source": [
    "# Fetch data from api"
   ]
  },
  {
   "cell_type": "code",
   "execution_count": null,
   "metadata": {},
   "outputs": [],
   "source": [
    "url = 'https://api.covid19api.com/summary'"
   ]
  },
  {
   "cell_type": "code",
   "execution_count": null,
   "metadata": {},
   "outputs": [],
   "source": [
    "JsonObj = urllib.request.urlopen(url)\n",
    "JsonObj"
   ]
  },
  {
   "cell_type": "code",
   "execution_count": null,
   "metadata": {},
   "outputs": [],
   "source": [
    "Obj = json.load(JsonObj)"
   ]
  },
  {
   "cell_type": "code",
   "execution_count": null,
   "metadata": {},
   "outputs": [],
   "source": [
    "# Iterate though, filter and save data"
   ]
  },
  {
   "cell_type": "code",
   "execution_count": null,
   "metadata": {},
   "outputs": [],
   "source": [
    "Countries = []\n",
    "Cases = []\n",
    "nCases = []\n",
    "Deaths = []\n",
    "nDeaths = []\n",
    "Recoveries = []\n",
    "nRecoveries = []"
   ]
  },
  {
   "cell_type": "code",
   "execution_count": null,
   "metadata": {},
   "outputs": [],
   "source": [
    "for item in Obj['Countries']:\n",
    "    Countries.append(item['Country'])\n",
    "    Cases.append(item['TotalConfirmed'])\n",
    "    nCases.append(item['NewConfirmed'])\n",
    "    Deaths.append(item['TotalDeaths'])\n",
    "    nDeaths.append(item['NewDeaths'])\n",
    "    Recoveries.append(item['TotalRecovered'])\n",
    "    nRecoveries.append(item['NewRecovered'])"
   ]
  },
  {
   "cell_type": "code",
   "execution_count": null,
   "metadata": {},
   "outputs": [],
   "source": [
    "# Create a pandas dataframe\n",
    "DataLib = {\n",
    "    \"Countries\" : Countries,\n",
    "    \"Total Cases\" : Cases,\n",
    "    \"New Cases\" : nCases,\n",
    "    \"Total Deaths\" : Deaths,\n",
    "    \"New Deaths\" : nDeaths,\n",
    "    \"Total Recoveries\" : Recoveries,\n",
    "    \"New Recoveries\" : nRecoveries\n",
    "}\n",
    "\n",
    "cols = DataLib.keys()\n",
    "\n",
    "data = pd.DataFrame(DataLib, columns = cols)\n",
    "data.head()"
   ]
  },
  {
   "cell_type": "code",
   "execution_count": null,
   "metadata": {},
   "outputs": [],
   "source": [
    "name = datetime.now().strftime(\"%d-%b-%Y\")\n",
    "data.to_csv(f'Data-Sets/{name}.csv')"
   ]
  }
 ],
 "metadata": {
  "kernelspec": {
   "display_name": "Python 3",
   "language": "python",
   "name": "python3"
  },
  "language_info": {
   "codemirror_mode": {
    "name": "ipython",
    "version": 3
   },
   "file_extension": ".py",
   "mimetype": "text/x-python",
   "name": "python",
   "nbconvert_exporter": "python",
   "pygments_lexer": "ipython3",
   "version": "3.7.5"
  }
 },
 "nbformat": 4,
 "nbformat_minor": 4
}
