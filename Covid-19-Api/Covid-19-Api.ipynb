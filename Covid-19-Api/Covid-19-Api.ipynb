{
 "cells": [
  {
   "cell_type": "markdown",
   "metadata": {},
   "source": [
    "#### Timothy Wangwe"
   ]
  },
  {
   "cell_type": "code",
   "execution_count": 1,
   "metadata": {},
   "outputs": [],
   "source": [
    "# Add module to system path\n",
    "import sys\n",
    "sys.path.append(\"../\")"
   ]
  },
  {
   "cell_type": "code",
   "execution_count": 2,
   "metadata": {},
   "outputs": [],
   "source": [
    "# Import 3rd party libraries\n",
    "import urllib.request\n",
    "import json\n",
    "import pandas as pd\n",
    "from datetime import datetime\n",
    "import time\n",
    "from AutoGit import auto"
   ]
  },
  {
   "cell_type": "code",
   "execution_count": 3,
   "metadata": {},
   "outputs": [],
   "source": [
    "# Fetch data from api"
   ]
  },
  {
   "cell_type": "code",
   "execution_count": 4,
   "metadata": {},
   "outputs": [],
   "source": [
    "url = 'https://api.covid19api.com/summary'"
   ]
  },
  {
   "cell_type": "code",
   "execution_count": 5,
   "metadata": {},
   "outputs": [
    {
     "data": {
      "text/plain": [
       "<http.client.HTTPResponse at 0x7f82344ef610>"
      ]
     },
     "execution_count": 5,
     "metadata": {},
     "output_type": "execute_result"
    }
   ],
   "source": [
    "JsonObj = urllib.request.urlopen(url)\n",
    "JsonObj"
   ]
  },
  {
   "cell_type": "code",
   "execution_count": 6,
   "metadata": {},
   "outputs": [],
   "source": [
    "Obj = json.load(JsonObj)"
   ]
  },
  {
   "cell_type": "code",
   "execution_count": 7,
   "metadata": {},
   "outputs": [],
   "source": [
    "# Iterate though, filter and save data"
   ]
  },
  {
   "cell_type": "code",
   "execution_count": 8,
   "metadata": {},
   "outputs": [],
   "source": [
    "Countries = []\n",
    "Cases = []\n",
    "nCases = []\n",
    "Deaths = []\n",
    "nDeaths = []\n",
    "Recoveries = []\n",
    "nRecoveries = []"
   ]
  },
  {
   "cell_type": "code",
   "execution_count": 9,
   "metadata": {},
   "outputs": [],
   "source": [
    "for item in Obj['Countries']:\n",
    "    Countries.append(item['Country'])\n",
    "    Cases.append(item['TotalConfirmed'])\n",
    "    nCases.append(item['NewConfirmed'])\n",
    "    Deaths.append(item['TotalDeaths'])\n",
    "    nDeaths.append(item['NewDeaths'])\n",
    "    Recoveries.append(item['TotalRecovered'])\n",
    "    nRecoveries.append(item['NewRecovered'])"
   ]
  },
  {
   "cell_type": "code",
   "execution_count": 11,
   "metadata": {},
   "outputs": [],
   "source": [
    "# Save to csv file as current date\n",
    "date = datetime.now().strftime(\"%d-%b-%Y\")\n",
    "data.to_csv(f'../Covid-19-Api/Datasets/{date}.csv')"
   ]
  },
  {
   "cell_type": "code",
   "execution_count": 12,
   "metadata": {},
   "outputs": [],
   "source": [
    " # Save last update time to a folder\n",
    "now = datetime.now().strftime(\"%H:%M:%S on %dth of %B 2020\")\n",
    "file = open(\"../Covid-19-Api/Datasets/Readme.md\", \"w\")\n",
    "file.write(f'File automatically updated at {now}.')\n",
    "file.close()"
   ]
  },
  {
   "cell_type": "code",
   "execution_count": 13,
   "metadata": {},
   "outputs": [],
   "source": [
    "# Commit Changes\n",
    "auto.git()"
   ]
  },
  {
   "cell_type": "code",
   "execution_count": 14,
   "metadata": {},
   "outputs": [],
   "source": [
    "import urllib.request\n",
    "import json\n",
    "\n",
    "import time\n",
    "\n",
    "url = 'https://api.covid19api.com/summary'\n",
    "try:\n",
    "    json_data = urllib.request.urlopen(url)\n",
    "    dictionary = json.load(json_data)\n",
    "except Exception as error:\n",
    "    print(error)\n",
    "    \n",
    "countries = []\n",
    "NewConfirmed = []\n",
    "TotalConfirmed = []\n",
    "NewDeaths = []\n",
    "TotalDeaths = []\n",
    "NewRecovered = []\n",
    "TotalRecovered = []\n",
    "\n",
    "for country in dictionary['Countries']:\n",
    "    countries.append(country['Country'])\n",
    "    NewConfirmed.append(country['NewConfirmed'])\n",
    "    TotalConfirmed.append(country['TotalConfirmed'])\n",
    "    NewDeaths.append(country['NewDeaths'])\n",
    "    TotalDeaths.append(country['TotalDeaths'])\n",
    "    NewRecovered.append(country['NewRecovered'])\n",
    "    TotalRecovered.append(country['TotalRecovered'])\n",
    "\n",
    "# data = {countries, NewConfirmed, TotalConfirmed, NewDeaths, TotalDeaths, NewRecovered, TotalRecovered}\n",
    "\n",
    "# print(data)"
   ]
  },
  {
   "cell_type": "code",
   "execution_count": 21,
   "metadata": {
    "code_folding": []
   },
   "outputs": [
    {
     "ename": "KeyboardInterrupt",
     "evalue": "",
     "output_type": "error",
     "traceback": [
      "\u001b[0;31m---------------------------------------------------------------------------\u001b[0m",
      "\u001b[0;31mKeyboardInterrupt\u001b[0m                         Traceback (most recent call last)",
      "\u001b[0;32m<ipython-input-21-cf39b8b1f8d9>\u001b[0m in \u001b[0;36m<module>\u001b[0;34m\u001b[0m\n\u001b[1;32m     13\u001b[0m                         \u001b[0mdata\u001b[0m\u001b[0;34m[\u001b[0m\u001b[0mcountry\u001b[0m\u001b[0;34m]\u001b[0m\u001b[0;34m[\u001b[0m\u001b[0;34m'New Recovered'\u001b[0m\u001b[0;34m]\u001b[0m \u001b[0;34m=\u001b[0m \u001b[0mnewrec\u001b[0m\u001b[0;34m\u001b[0m\u001b[0;34m\u001b[0m\u001b[0m\n\u001b[1;32m     14\u001b[0m                         \u001b[0;32mfor\u001b[0m \u001b[0mtotalrec\u001b[0m \u001b[0;32min\u001b[0m \u001b[0mTotalRecovered\u001b[0m\u001b[0;34m:\u001b[0m\u001b[0;34m\u001b[0m\u001b[0;34m\u001b[0m\u001b[0m\n\u001b[0;32m---> 15\u001b[0;31m                             \u001b[0mdata\u001b[0m\u001b[0;34m[\u001b[0m\u001b[0mcountry\u001b[0m\u001b[0;34m]\u001b[0m\u001b[0;34m[\u001b[0m\u001b[0;34m'Total Recovered'\u001b[0m\u001b[0;34m]\u001b[0m \u001b[0;34m=\u001b[0m \u001b[0mtotalrec\u001b[0m\u001b[0;34m\u001b[0m\u001b[0;34m\u001b[0m\u001b[0m\n\u001b[0m\u001b[1;32m     16\u001b[0m \u001b[0;34m\u001b[0m\u001b[0m\n",
      "\u001b[0;31mKeyboardInterrupt\u001b[0m: "
     ]
    }
   ],
   "source": [
    "data = {}\n",
    "for country in countries:\n",
    "    data[country] = {}\n",
    "    for newconf in NewConfirmed:\n",
    "        data[country]['New Confirmed'] = newconf\n",
    "        for totalconf in TotalConfirmed:\n",
    "            data[country]['Total Confirmed'] = totalconf\n",
    "            for newdeath in NewDeaths:\n",
    "                data[country]['New Deaths'] = newdeath\n",
    "                for totaldeath in TotalDeaths:\n",
    "                    data[country]['Total Deaths'] = totaldeath\n",
    "                    for newrec in NewRecovered:\n",
    "                        data[country]['New Recovered'] = newrec\n",
    "                        for totalrec in TotalRecovered:\n",
    "                            data[country]['Total Recovered'] = totalrec\n",
    "                            "
   ]
  },
  {
   "cell_type": "code",
   "execution_count": null,
   "metadata": {},
   "outputs": [],
   "source": [
    "data"
   ]
  },
  {
   "cell_type": "code",
   "execution_count": 22,
   "metadata": {},
   "outputs": [
    {
     "ename": "KeyboardInterrupt",
     "evalue": "",
     "output_type": "error",
     "traceback": [
      "\u001b[0;31m---------------------------------------------------------------------------\u001b[0m",
      "\u001b[0;31mKeyboardInterrupt\u001b[0m                         Traceback (most recent call last)",
      "\u001b[0;32m<ipython-input-22-9e5ddd71c628>\u001b[0m in \u001b[0;36m<module>\u001b[0;34m\u001b[0m\n\u001b[1;32m     43\u001b[0m                         \u001b[0mdata\u001b[0m\u001b[0;34m[\u001b[0m\u001b[0mcountry\u001b[0m\u001b[0;34m]\u001b[0m\u001b[0;34m[\u001b[0m\u001b[0;34m'New Recovered'\u001b[0m\u001b[0;34m]\u001b[0m \u001b[0;34m=\u001b[0m \u001b[0mnewrec\u001b[0m\u001b[0;34m\u001b[0m\u001b[0;34m\u001b[0m\u001b[0m\n\u001b[1;32m     44\u001b[0m                         \u001b[0;32mfor\u001b[0m \u001b[0mtotalrec\u001b[0m \u001b[0;32min\u001b[0m \u001b[0mTotalRecovered\u001b[0m\u001b[0;34m:\u001b[0m\u001b[0;34m\u001b[0m\u001b[0;34m\u001b[0m\u001b[0m\n\u001b[0;32m---> 45\u001b[0;31m                             \u001b[0mdata\u001b[0m\u001b[0;34m[\u001b[0m\u001b[0mcountry\u001b[0m\u001b[0;34m]\u001b[0m\u001b[0;34m[\u001b[0m\u001b[0;34m'Total Recovered'\u001b[0m\u001b[0;34m]\u001b[0m \u001b[0;34m=\u001b[0m \u001b[0mtotalrec\u001b[0m\u001b[0;34m\u001b[0m\u001b[0;34m\u001b[0m\u001b[0m\n\u001b[0m\u001b[1;32m     46\u001b[0m \u001b[0mprint\u001b[0m\u001b[0;34m(\u001b[0m\u001b[0mdata\u001b[0m\u001b[0;34m)\u001b[0m\u001b[0;34m\u001b[0m\u001b[0;34m\u001b[0m\u001b[0m\n",
      "\u001b[0;31mKeyboardInterrupt\u001b[0m: "
     ]
    }
   ],
   "source": [
    "import urllib.request\n",
    "import json\n",
    "\n",
    "import time\n",
    "\n",
    "url = 'https://api.covid19api.com/summary'\n",
    "try:\n",
    "    json_data = urllib.request.urlopen(url)\n",
    "    dictionary = json.load(json_data)\n",
    "except Exception as error:\n",
    "    print(error)\n",
    "    \n",
    "countries = []\n",
    "NewConfirmed = []\n",
    "TotalConfirmed = []\n",
    "NewDeaths = []\n",
    "TotalDeaths = []\n",
    "NewRecovered = []\n",
    "TotalRecovered = []\n",
    "\n",
    "for country in dictionary['Countries']:\n",
    "    countries.append(country['Country'])\n",
    "    NewConfirmed.append(country['NewConfirmed'])\n",
    "    TotalConfirmed.append(country['TotalConfirmed'])\n",
    "    NewDeaths.append(country['NewDeaths'])\n",
    "    TotalDeaths.append(country['TotalDeaths'])\n",
    "    NewRecovered.append(country['NewRecovered'])\n",
    "    TotalRecovered.append(country['TotalRecovered'])\n",
    "\n",
    "# data = {countries, NewConfirmed, TotalConfirmed, NewDeaths, TotalDeaths, NewRecovered, TotalRecovered}\n",
    "data = {}\n",
    "for country in countries:\n",
    "    data[country] = {}\n",
    "    for newconf in NewConfirmed:\n",
    "        data[country]['New Confirmed'] = newconf\n",
    "        for totalconf in TotalConfirmed:\n",
    "            data[country]['Total Confirmed'] = totalconf\n",
    "            for newdeath in NewDeaths:\n",
    "                data[country]['New Deaths'] = newdeath\n",
    "                for totaldeath in TotalDeaths:\n",
    "                    data[country]['Total Deaths'] = totaldeath\n",
    "                    for newrec in NewRecovered:\n",
    "                        data[country]['New Recovered'] = newrec\n",
    "                        for totalrec in TotalRecovered:\n",
    "                            data[country]['Total Recovered'] = totalrec\n",
    "print(data)"
   ]
  },
  {
   "cell_type": "code",
   "execution_count": 10,
   "metadata": {},
   "outputs": [
    {
     "data": {
      "text/html": [
       "<div>\n",
       "<style scoped>\n",
       "    .dataframe tbody tr th:only-of-type {\n",
       "        vertical-align: middle;\n",
       "    }\n",
       "\n",
       "    .dataframe tbody tr th {\n",
       "        vertical-align: top;\n",
       "    }\n",
       "\n",
       "    .dataframe thead th {\n",
       "        text-align: right;\n",
       "    }\n",
       "</style>\n",
       "<table border=\"1\" class=\"dataframe\">\n",
       "  <thead>\n",
       "    <tr style=\"text-align: right;\">\n",
       "      <th></th>\n",
       "      <th>Countries</th>\n",
       "      <th>Total Cases</th>\n",
       "      <th>New Cases</th>\n",
       "      <th>Total Deaths</th>\n",
       "      <th>New Deaths</th>\n",
       "      <th>Total Recoveries</th>\n",
       "      <th>New Recoveries</th>\n",
       "    </tr>\n",
       "  </thead>\n",
       "  <tbody>\n",
       "    <tr>\n",
       "      <th>0</th>\n",
       "      <td>Afghanistan</td>\n",
       "      <td>36710</td>\n",
       "      <td>0</td>\n",
       "      <td>1284</td>\n",
       "      <td>1</td>\n",
       "      <td>25510</td>\n",
       "      <td>1</td>\n",
       "    </tr>\n",
       "    <tr>\n",
       "      <th>1</th>\n",
       "      <td>Albania</td>\n",
       "      <td>5519</td>\n",
       "      <td>123</td>\n",
       "      <td>166</td>\n",
       "      <td>5</td>\n",
       "      <td>3018</td>\n",
       "      <td>57</td>\n",
       "    </tr>\n",
       "    <tr>\n",
       "      <th>2</th>\n",
       "      <td>Algeria</td>\n",
       "      <td>31465</td>\n",
       "      <td>515</td>\n",
       "      <td>1231</td>\n",
       "      <td>8</td>\n",
       "      <td>21419</td>\n",
       "      <td>431</td>\n",
       "    </tr>\n",
       "    <tr>\n",
       "      <th>3</th>\n",
       "      <td>Andorra</td>\n",
       "      <td>925</td>\n",
       "      <td>0</td>\n",
       "      <td>52</td>\n",
       "      <td>0</td>\n",
       "      <td>807</td>\n",
       "      <td>0</td>\n",
       "    </tr>\n",
       "    <tr>\n",
       "      <th>4</th>\n",
       "      <td>Angola</td>\n",
       "      <td>1199</td>\n",
       "      <td>35</td>\n",
       "      <td>55</td>\n",
       "      <td>1</td>\n",
       "      <td>461</td>\n",
       "      <td>1</td>\n",
       "    </tr>\n",
       "  </tbody>\n",
       "</table>\n",
       "</div>"
      ],
      "text/plain": [
       "     Countries  Total Cases  New Cases  Total Deaths  New Deaths  \\\n",
       "0  Afghanistan        36710          0          1284           1   \n",
       "1      Albania         5519        123           166           5   \n",
       "2      Algeria        31465        515          1231           8   \n",
       "3      Andorra          925          0            52           0   \n",
       "4       Angola         1199         35            55           1   \n",
       "\n",
       "   Total Recoveries  New Recoveries  \n",
       "0             25510               1  \n",
       "1              3018              57  \n",
       "2             21419             431  \n",
       "3               807               0  \n",
       "4               461               1  "
      ]
     },
     "execution_count": 10,
     "metadata": {},
     "output_type": "execute_result"
    }
   ],
   "source": [
    "# Create a pandas dataframe\n",
    "DataLib = {\n",
    "    \"Countries\" : Countries,\n",
    "    \"Total Cases\" : Cases,\n",
    "    \"New Cases\" : nCases,\n",
    "    \"Total Deaths\" : Deaths,\n",
    "    \"New Deaths\" : nDeaths,\n",
    "    \"Total Recoveries\" : Recoveries,\n",
    "    \"New Recoveries\" : nRecoveries\n",
    "}\n",
    "\n",
    "cols = DataLib.keys()\n",
    "\n",
    "data = pd.DataFrame(DataLib, columns = cols)\n",
    "data.head()"
   ]
  },
  {
   "cell_type": "code",
   "execution_count": 24,
   "metadata": {},
   "outputs": [
    {
     "data": {
      "text/plain": [
       "[{0, 1288, 25669, 35, 36782, 'Afghanistan'},\n",
       " {0, 130, 176, 3031, 4, 5750, 'Albania'},\n",
       " {1248, 22375, 32504, 474, 532, 9, 'Algeria'},\n",
       " {0, 2, 4, 52, 825, 939, 'Andorra'},\n",
       " {1, 1344, 27, 503, 59, 64, 'Angola'},\n",
       " {0, 3, 75, 92, 'Antigua and Barbuda'},\n",
       " {166, 213535, 2827, 3979, 6792, 94129, 'Argentina'},\n",
       " {196, 30372, 39298, 511, 6, 768, 'Armenia'},\n",
       " {10799, 15, 176, 19445, 247, 715, 'Australia'},\n",
       " {1, 19336, 21481, 273, 719, 96, 'Austria'},\n",
       " {226, 28348, 32910, 473, 5, 588, 'Azerbaijan'},\n",
       " {0, 14, 36, 715, 91, 'Bahamas'},\n",
       " {1, 151, 297, 328, 39335, 42132, 'Bahrain'},\n",
       " {139860, 1918, 1955, 244020, 3234, 50, 'Bangladesh'},\n",
       " {0, 132, 7, 98, 'Barbados'},\n",
       " {220, 3, 574, 63163, 68250, 84, 'Belarus'},\n",
       " {17639, 2, 334, 41, 70648, 9852, 'Belgium'},\n",
       " {0, 2, 30, 57, 'Belize'},\n",
       " {0, 1036, 109, 1914, 2, 38, 'Benin'},\n",
       " {0, 105, 2, 3, 93, 'Bhutan'},\n",
       " {1515, 25390, 3320, 83361, 880, 92, 'Bolivia'},\n",
       " {11, 12856, 233, 373, 394, 6592, 'Bosnia and Herzegovina'},\n",
       " {0, 2, 63, 804, 'Botswana'},\n",
       " {1154, 2157484, 2801921, 51603, 58508, 95819, 'Brazil'},\n",
       " {0, 138, 141, 3, 'Brunei Darussalam'},\n",
       " {11, 12414, 255, 280, 415, 6964, 'Bulgaria'},\n",
       " {0, 1, 1153, 3, 54, 947, 'Burkina Faso'},\n",
       " {0, 1, 304, 395, 'Burundi'},\n",
       " {0, 202, 243, 3, 5, 'Cambodia'},\n",
       " {0, 15320, 17718, 391, 463, 'Cameroon'},\n",
       " {10, 104058, 119646, 686, 774, 9004, 'Canada'},\n",
       " {1, 19, 1930, 26, 2631, 48, 'Cape Verde'},\n",
       " {0, 1640, 4, 4618, 5, 59, 'Central African Republic'},\n",
       " {0, 2, 75, 814, 938, 'Chad'},\n",
       " {1469, 2354, 336330, 362962, 38, 9745, 'Chile'},\n",
       " {107, 121, 4, 4676, 81234, 88206, 'China'},\n",
       " {11315, 180258, 298, 334979, 6531, 7129, 'Colombia'},\n",
       " {0, 10, 2, 340, 388, 7, 'Comoros'},\n",
       " {0, 1589, 3546, 58, 'Congo (Brazzaville)'},\n",
       " {0, 215, 303, 45, 7727, 9178, 'Congo (Kinshasa)'},\n",
       " {10, 181, 1901, 19837, 435, 6590, 'Costa Rica'},\n",
       " {1, 154, 24, 4517, 5318, 79, 'Croatia'},\n",
       " {1, 2382, 2701, 31, 88, 9, 'Cuba'},\n",
       " {0, 1180, 19, 25, 856, 'Cyprus'},\n",
       " {0, 104, 11812, 17286, 278, 386, 'Czech Republic'},\n",
       " {1, 103, 11955, 16293, 68, 73, \"Côte d'Ivoire\"},\n",
       " {0, 12920, 14314, 33, 616, 79, 'Denmark'},\n",
       " {0, 16, 5044, 5248, 59, 8, 'Djibouti'},\n",
       " {0, 18, 'Dominica'},\n",
       " {0, 1178, 1213, 30, 38824, 74295, 'Dominican Republic'},\n",
       " {11641, 41, 5808, 70985, 87963, 922, 'Ecuador'},\n",
       " {112, 1503, 24, 45569, 4912, 94752, 'Egypt'},\n",
       " {145, 18262, 419, 486, 8954, 9, 'El Salvador'},\n",
       " {0, 2182, 4821, 83, 'Equatorial Guinea'},\n",
       " {0, 225, 282, 'Eritrea'},\n",
       " {0, 11, 1937, 2, 2091, 63, 'Estonia'},\n",
       " {19877, 309, 343, 588, 7, 8240, 'Ethiopia'},\n",
       " {0, 1, 18, 27, 'Fiji'},\n",
       " {0, 17, 2, 331, 6950, 7483, 'Finland'},\n",
       " {0, 228576, 29, 30297, 3378, 81764, 'France'},\n",
       " {0, 51, 5408, 7646, 'Gabon'},\n",
       " {11, 14, 173, 5, 671, 79, 'Gambia'},\n",
       " {0, 1182, 17, 3, 962, 'Georgia'},\n",
       " {194173, 212828, 579, 717, 9, 9163, 'Germany'},\n",
       " {0, 191, 34313, 37812, 'Ghana'},\n",
       " {0, 118, 1374, 209, 4855, 'Greece'},\n",
       " {0, 23, 24, 'Grenada'},\n",
       " {2037, 24, 40285, 52365, 823, 939, 'Guatemala'},\n",
       " {125, 2, 48, 6591, 7489, 86, 'Guinea'},\n",
       " {0, 1981, 27, 803, 'Guinea-Bissau'},\n",
       " {1, 186, 22, 23, 497, 'Guyana'},\n",
       " {0, 166, 4832, 7511, 'Haiti'},\n",
       " {0, 12, 'Holy See (Vatican City State)'},\n",
       " {1400, 16, 44299, 505, 5921, 67, 'Honduras'},\n",
       " {1, 2, 3415, 4553, 598, 9, 'Hungary'},\n",
       " {0, 10, 1825, 1918, 3, 'Iceland'},\n",
       " {1282215, 1908254, 39795, 51706, 52509, 857, 'India'},\n",
       " {115056, 1813, 1922, 5388, 72050, 86, 'Indonesia'},\n",
       " {17617, 212, 2307, 272535, 2751, 314786, 'Iran, Islamic Republic of'},\n",
       " {134722, 1992, 2836, 5017, 83, 96103, 'Iraq'},\n",
       " {0, 1763, 23364, 26253, 45, 'Ireland'},\n",
       " {15, 1768, 2263, 49834, 561, 76198, 'Israel'},\n",
       " {177, 190, 200766, 248419, 35171, 5, 'Italy'},\n",
       " {0, 12, 15, 2, 745, 920, 'Jamaica'},\n",
       " {1023, 1248, 27187, 41347, 5, 711, 'Japan'},\n",
       " {0, 11, 1155, 1224, 24, 6, 'Jordan'},\n",
       " {1058, 1062, 1899, 265, 67031, 94882, 'Kazakhstan'},\n",
       " {23202, 388, 587, 6, 605, 9327, 'Kenya'},\n",
       " {1, 13406, 14456, 302, 33, 54, 'Korea (South)'},\n",
       " {4, 465, 475, 587, 60326, 68774, 'Kuwait'},\n",
       " {1427, 28743, 37541, 412, 7, 816, 'Kyrgyzstan'},\n",
       " {0, 19, 20, 'Lao PDR'},\n",
       " {0, 1070, 1249, 18, 3, 32, 'Latvia'},\n",
       " {0, 1837, 5062, 65, 'Lebanon'},\n",
       " {1, 174, 2, 21, 726, 8, 'Lesotho'},\n",
       " {0, 1216, 2, 698, 78, 'Liberia'},\n",
       " {161, 3, 4224, 633, 8, 96, 'Libya'},\n",
       " {0, 1, 85, 89, 'Liechtenstein'},\n",
       " {0, 1647, 17, 2, 2137, 80, 'Lithuania'},\n",
       " {0, 118, 39, 53, 5537, 6917, 'Luxembourg'},\n",
       " {11202, 136, 5, 505, 7108, 74, 'Macedonia, Republic of'},\n",
       " {11895, 123, 235, 461, 5, 9286, 'Madagascar'},\n",
       " {102, 128, 2047, 4361, 5, 89, 'Malawi'},\n",
       " {0, 1, 125, 16, 8684, 9002, 'Malaysia'},\n",
       " {1, 153, 19, 23, 2693, 4446, 'Maldives'},\n",
       " {0, 124, 1946, 2543, 3, 'Mali'},\n",
       " {0, 16, 666, 890, 9, 'Malta'},\n",
       " {0, 157, 35, 36, 5209, 6418, 'Mauritania'},\n",
       " {0, 10, 334, 344, 'Mauritius'},\n",
       " {357444, 4002, 449961, 48869, 6148, 857, 'Mexico'},\n",
       " {10, 18167, 225, 25814, 332, 810, 'Moldova'},\n",
       " {0, 105, 123, 2, 4, 'Monaco'},\n",
       " {0, 14, 244, 293, 'Mongolia'},\n",
       " {1, 1869, 3361, 424, 53, 60, 'Montenegro'},\n",
       " {1021, 16, 19629, 27217, 417, 661, 'Morocco'},\n",
       " {1, 15, 2029, 56, 765, 89, 'Mozambique'},\n",
       " {0, 1, 302, 356, 6, 'Myanmar'},\n",
       " {0, 12, 211, 24, 2470, 64, 'Namibia'},\n",
       " {1, 15026, 21009, 259, 58, 65, 'Nepal'},\n",
       " {0, 1, 207, 493, 56279, 6170, 'Netherlands'},\n",
       " {0, 1523, 1569, 2, 22, 'New Zealand'},\n",
       " {123, 230, 2913, 3902, 421, 7, 'Nicaragua'},\n",
       " {0, 1037, 1152, 5, 69, 'Niger'},\n",
       " {11188, 14, 304, 31851, 44433, 910, 'Nigeria'},\n",
       " {0, 256, 28, 8752, 9362, 'Norway'},\n",
       " {0, 421, 61421, 79159, 'Oman'},\n",
       " {0, 249397, 280461, 5999, 'Pakistan'},\n",
       " {1029, 12770, 2, 229, 6419, 86, 'Palestinian Territory'},\n",
       " {1237, 1522, 25, 43330, 69424, 968, 'Panama'},\n",
       " {0, 114, 2, 3, 34, 'Papua New Guinea'},\n",
       " {128, 396, 4, 4645, 5852, 59, 'Paraguay'},\n",
       " {196, 20007, 302457, 4366, 439890, 6790, 'Peru'},\n",
       " {11, 112593, 2115, 228, 6263, 66049, 'Philippines'},\n",
       " {1738, 175, 35056, 48149, 6, 680, 'Poland'},\n",
       " {1, 112, 1739, 207, 37318, 51681, 'Portugal'},\n",
       " {0, 108254, 111538, 177, 216, 252, 'Qatar'},\n",
       " {201, 225, 296, 40, 5190, 9274, 'Republic of Kosovo'},\n",
       " {1232, 2480, 256, 28006, 48, 55241, 'Romania'},\n",
       " {14327, 144, 5121, 660235, 7863, 859762, 'Russian Federation'},\n",
       " {0, 1222, 2099, 5, 53, 7, 'Rwanda'},\n",
       " {0, 16, 17, 'Saint Kitts and Nevis'},\n",
       " {0, 22, 25, 'Saint Lucia'},\n",
       " {0, 45, 55, 'Saint Vincent and Grenadines'},\n",
       " {0, 42, 657, 699, 'San Marino'},\n",
       " {0, 1, 15, 7, 794, 875, 'Sao Tome and Principe'},\n",
       " {1363, 1658, 243713, 281456, 2984, 35, 'Saudi Arabia'},\n",
       " {10432, 19, 214, 3, 46, 6920, 'Senegal'},\n",
       " {0, 26738, 287, 605, 7, 'Serbia'},\n",
       " {0, 113, 114, 'Seychelles'},\n",
       " {0, 1397, 1855, 22, 67, 7, 'Sierra Leone'},\n",
       " {0, 27, 275, 295, 47454, 53346, 'Singapore'},\n",
       " {0, 14, 1771, 2368, 25, 29, 'Slovakia'},\n",
       " {1, 123, 1854, 2190, 23, 9, 'Slovenia'},\n",
       " {0, 1598, 3220, 93, 'Somalia'},\n",
       " {345, 363751, 4456, 521318, 5714, 8884, 'South Africa'},\n",
       " {0, 1, 1175, 2437, 47, 8, 'South Sudan'},\n",
       " {0, 150376, 26, 28498, 302814, 5760, 'Spain'},\n",
       " {0, 11, 2524, 2834, 6, 7, 'Sri Lanka'},\n",
       " {11, 11780, 42, 57, 6194, 763, 'Sudan'},\n",
       " {0, 1278, 1981, 27, 51, 88, 'Suriname'},\n",
       " {1258, 18, 2856, 4, 49, 5, 'Swaziland'},\n",
       " {0, 169, 3, 5747, 81181, 'Sweden'},\n",
       " {0, 100, 130, 1981, 31600, 35746, 'Switzerland'},\n",
       " {0, 15, 283, 45, 46, 892, 'Syrian Arab Republic (Syria)'},\n",
       " {0, 2, 441, 476, 7, 'Taiwan, Republic of China'},\n",
       " {0, 39, 45, 61, 6356, 7583, 'Tajikistan'},\n",
       " {0, 183, 21, 509, 'Tanzania, United Republic of'},\n",
       " {0, 1, 3142, 3321, 58, 'Thailand'},\n",
       " {0, 1, 24, 25, 'Timor-Leste'},\n",
       " {0, 10, 12, 19, 673, 988, 'Togo'},\n",
       " {0, 12, 135, 194, 8, 'Trinidad and Tobago'},\n",
       " {0, 1227, 1584, 19, 2, 51, 'Tunisia'},\n",
       " {1083, 18, 218491, 234934, 5765, 994, 'Turkey'},\n",
       " {0, 1073, 1203, 3, 5, 8, 'Uganda'},\n",
       " {1099, 1788, 26, 41849, 752, 75880, 'Ukraine'},\n",
       " {0, 189, 227, 351, 55090, 61352, 'United Arab Emirates'},\n",
       " {0, 1445, 307256, 46295, 5, 'United Kingdom'},\n",
       " {1399, 1528979, 15533, 156801, 4771080, 57540, 'United States of America'},\n",
       " {1, 1048, 1300, 25, 37, 9, 'Uruguay'},\n",
       " {1213, 165, 18051, 27047, 8, 981, 'Uzbekistan'},\n",
       " {11875, 187, 21438, 253, 684, 7, 'Venezuela (Bolivarian Republic)'},\n",
       " {1, 20, 378, 4, 672, 8, 'Viet Nam'},\n",
       " {0, 1, 10, 8, 'Western Sahara'},\n",
       " {0, 1760, 26, 506, 7, 863, 'Yemen'},\n",
       " {173, 2, 213, 408, 5109, 6793, 'Zambia'},\n",
       " {1, 1238, 146, 181, 4221, 81, 'Zimbabwe'}]"
      ]
     },
     "execution_count": 24,
     "metadata": {},
     "output_type": "execute_result"
    }
   ],
   "source": [
    "[{country, newconfirmed, totalconfirmed, newdeaths, totaldeaths, newrecovered, totalrecovered} for country, newconfirmed, totalconfirmed, newdeaths, totaldeaths, newrecovered, totalrecovered in zip(countries, NewConfirmed, TotalConfirmed, NewDeaths, TotalDeaths, NewRecovered, TotalRecovered)]"
   ]
  },
  {
   "cell_type": "code",
   "execution_count": null,
   "metadata": {},
   "outputs": [],
   "source": [
    "[{'name': name, 'job': job, 'status': status} for name,job,status in zip(names,jobs,statuses)]\n",
    "[\n",
    "  {'name': 'john', 'job': 'guitar', 'status': 'dead'},\n",
    "  {'name': 'paul', 'job': 'bass', 'status': 'alive'},\n",
    "  {'name': 'george', 'job': 'guitar', 'status': 'dead'},\n",
    "  {'name': 'ringo', 'job': 'drums', 'status': 'alive'}\n",
    "]"
   ]
  }
 ],
 "metadata": {
  "kernelspec": {
   "display_name": "Python 3.8.2 64-bit",
   "language": "python",
   "name": "python38264bit99f0b81475cc4849918148286310f335"
  },
  "language_info": {
   "codemirror_mode": {
    "name": "ipython",
    "version": 3
   },
   "file_extension": ".py",
   "mimetype": "text/x-python",
   "name": "python",
   "nbconvert_exporter": "python",
   "pygments_lexer": "ipython3",
   "version": "3.8.2"
  },
  "toc": {
   "base_numbering": 1,
   "nav_menu": {},
   "number_sections": true,
   "sideBar": true,
   "skip_h1_title": false,
   "title_cell": "Table of Contents",
   "title_sidebar": "Contents",
   "toc_cell": false,
   "toc_position": {},
   "toc_section_display": true,
   "toc_window_display": false
  },
  "varInspector": {
   "cols": {
    "lenName": 16,
    "lenType": 16,
    "lenVar": 40
   },
   "kernels_config": {
    "python": {
     "delete_cmd_postfix": "",
     "delete_cmd_prefix": "del ",
     "library": "var_list.py",
     "varRefreshCmd": "print(var_dic_list())"
    },
    "r": {
     "delete_cmd_postfix": ") ",
     "delete_cmd_prefix": "rm(",
     "library": "var_list.r",
     "varRefreshCmd": "cat(var_dic_list()) "
    }
   },
   "types_to_exclude": [
    "module",
    "function",
    "builtin_function_or_method",
    "instance",
    "_Feature"
   ],
   "window_display": false
  }
 },
 "nbformat": 4,
 "nbformat_minor": 4
}
